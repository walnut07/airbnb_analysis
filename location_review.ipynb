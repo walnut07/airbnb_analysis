{
 "cells": [
  {
   "cell_type": "markdown",
   "source": [
    "Why does Tokyo have low review scores in the \"location\" category?"
   ],
   "metadata": {
    "collapsed": false
   }
  },
  {
   "cell_type": "code",
   "execution_count": 1,
   "outputs": [],
   "source": [
    "import pandas as pd\n",
    "import matplotlib.pyplot as plt\n",
    "import seaborn as sns\n",
    "import numpy as np"
   ],
   "metadata": {
    "collapsed": false,
    "ExecuteTime": {
     "end_time": "2023-11-02T09:45:53.589781Z",
     "start_time": "2023-11-02T09:45:53.588502Z"
    }
   }
  },
  {
   "cell_type": "code",
   "execution_count": 2,
   "outputs": [],
   "source": [
    "city_names = [\"tokyo\", \"sydney\", \"melbourne\", \"singapore\", \"hongkong\", \"taipei\", \"bangkok\"]"
   ],
   "metadata": {
    "collapsed": false,
    "ExecuteTime": {
     "end_time": "2023-11-02T09:45:59.501598Z",
     "start_time": "2023-11-02T09:45:59.498218Z"
    }
   }
  },
  {
   "cell_type": "code",
   "execution_count": 3,
   "outputs": [],
   "source": [
    "cities_df = dict()\n",
    "for city in city_names:\n",
    "    cities_df[city] = pd.read_csv(\"./data/listings_{c}.csv\".format(c=city))"
   ],
   "metadata": {
    "collapsed": false,
    "ExecuteTime": {
     "end_time": "2023-11-02T09:46:07.271335Z",
     "start_time": "2023-11-02T09:46:05.231308Z"
    }
   }
  },
  {
   "cell_type": "code",
   "execution_count": 4,
   "outputs": [],
   "source": [
    "reviews_df = dict()\n",
    "for city in city_names:\n",
    "    reviews_df[city] = pd.read_csv(\"./data/reviews_{c}.csv\".format(c=city))"
   ],
   "metadata": {
    "collapsed": false,
    "ExecuteTime": {
     "end_time": "2023-11-02T09:46:15.133857Z",
     "start_time": "2023-11-02T09:46:09.342925Z"
    }
   }
  },
  {
   "cell_type": "code",
   "execution_count": 5,
   "outputs": [],
   "source": [
    "df_full_tokyo = pd.merge(cities_df[\"tokyo\"], reviews_df[\"tokyo\"], left_on='id', right_on='listing_id')\n",
    "\n",
    "df_full_tokyo['all_reviews'] = df_full_tokyo.apply(lambda row: f\"Score: {row['review_scores_location']}<br>Review: {row['comments']}\", axis=1)\n",
    "\n",
    "# This step concatenates all reviews and scores for each listing into a single string.\n",
    "df_full_tokyo['all_reviews'] = df_full_tokyo.groupby('listing_id')['all_reviews'].transform(lambda x: '<br><br>'.join(x))\n",
    "\n",
    "# Drop duplicate listings, keeping only the first entry (which now contains all reviews and scores)\n",
    "df_full = df_full_tokyo.drop_duplicates(subset='listing_id')\n"
   ],
   "metadata": {
    "collapsed": false,
    "ExecuteTime": {
     "end_time": "2023-11-02T09:46:37.785877Z",
     "start_time": "2023-11-02T09:46:34.417195Z"
    }
   }
  },
  {
   "cell_type": "markdown",
   "source": [
    "## Plotting the location in a geographical map"
   ],
   "metadata": {
    "collapsed": false
   }
  },
  {
   "cell_type": "markdown",
   "source": [
    "Plotting the location of listings that have top 85% review scores and bottom 10% review scores"
   ],
   "metadata": {
    "collapsed": false
   }
  },
  {
   "cell_type": "code",
   "execution_count": 7,
   "outputs": [
    {
     "name": "stdout",
     "output_type": "stream",
     "text": [
      "Map saved to 'bad_and_good_location_tokyo.html'. Open it in your browser to view the map.\n"
     ]
    }
   ],
   "source": [
    "import folium\n",
    "\n",
    "tokyo_coords = [35.682839, 139.759455]\n",
    "\n",
    "m = folium.Map(location=tokyo_coords, zoom_start=12)\n",
    "\n",
    "\n",
    "quantile_25 = df_full['review_scores_location'].quantile(0.10) # Too many reviews below 5%, so we use 3% quantile\n",
    "quantile_75 = df_full['review_scores_location'].quantile(0.85) # No reviews above 90%, so we use 85% quantile\n",
    "\n",
    "# Plot each point on the map\n",
    "for idx, row in df_full.iterrows():\n",
    "    if row['review_scores_location'] < quantile_25:\n",
    "        color = 'blue'\n",
    "    elif row['review_scores_location'] > quantile_75:\n",
    "        color = 'green'\n",
    "    else:\n",
    "        continue\n",
    "\n",
    "    marker = folium.CircleMarker(location=[row['latitude'], row['longitude']],\n",
    "                                 radius=5,\n",
    "                                 color=color,\n",
    "                                 fill=True,\n",
    "                                 fill_color=color,\n",
    "                                 fill_opacity=0.6)\n",
    "\n",
    "    marker.add_child(folium.Popup(row['all_reviews'], max_width=300))  # adjust max_width to your preference\n",
    "    marker.add_to(m)\n",
    "\n",
    "m.save('./map/bad_and_good_location_{c}.html'.format(c=\"tokyo\"))\n",
    "print(\"Map saved to 'bad_and_good_location_tokyo.html'. Open it in your browser to view the map.\")"
   ],
   "metadata": {
    "collapsed": false,
    "ExecuteTime": {
     "end_time": "2023-11-02T09:47:52.068479Z",
     "start_time": "2023-11-02T09:47:50.429984Z"
    }
   }
  },
  {
   "cell_type": "markdown",
   "source": [
    "Plot all the location of listings in Tokyo.\n",
    "Red color for scores above the median, blue color for scores below the median."
   ],
   "metadata": {
    "collapsed": false
   }
  },
  {
   "cell_type": "code",
   "execution_count": 9,
   "outputs": [
    {
     "name": "stdout",
     "output_type": "stream",
     "text": [
      "Map saved to 'location_scores_heatmap_tokyo_sampled.html'. Open it in your browser to view the map.\n"
     ]
    }
   ],
   "source": [
    "import numpy as np\n",
    "\n",
    "df_sampled = df_full.copy()\n",
    "\n",
    "quantile_50 = df_sampled['review_scores_location'].quantile(0.50)\n",
    "\n",
    "m = folium.Map(location=[35.6895, 139.6917], zoom_start=12)\n",
    "\n",
    "df_sampled['deviation'] = df_sampled['review_scores_location'] - quantile_50\n",
    "\n",
    "def determine_color(deviation):\n",
    "    if deviation is None or np.isnan(deviation):\n",
    "        return \"#ffffff\"\n",
    "    # Use logarithmic scaling to emphasize the deviation\n",
    "    scaled_deviation = np.sign(deviation) * np.log1p(abs(deviation))\n",
    "\n",
    "    if scaled_deviation > 0:\n",
    "        # Red color for scores above the median\n",
    "        intensity = int(255 * (1 - scaled_deviation))\n",
    "        return f\"#{255:02x}{intensity:02x}{intensity:02x}\"\n",
    "    else:\n",
    "        # Blue color for scores below the median\n",
    "        intensity = int(255 * (1 + scaled_deviation))\n",
    "        return f\"#{intensity:02x}{intensity:02x}ff\"\n",
    "\n",
    "\n",
    "# Plot each point on the map using the sampled dataframe\n",
    "for idx, row in df_sampled.iterrows():\n",
    "    color = determine_color(row['deviation'])\n",
    "    marker = folium.CircleMarker(location=[row['latitude'], row['longitude']],\n",
    "                                 radius=5,\n",
    "                                 color=color,\n",
    "                                 fill=True,\n",
    "                                 fill_color=color,\n",
    "                                 fill_opacity=0.6)\n",
    "    marker.add_to(m)\n",
    "\n",
    "m.save('./map/location_scores_heatmap_tokyo_sampled.html')\n",
    "print(\"Map saved to 'location_scores_heatmap_tokyo_sampled.html'. Open it in your browser to view the map.\")\n"
   ],
   "metadata": {
    "collapsed": false,
    "ExecuteTime": {
     "end_time": "2023-11-02T09:48:37.481546Z",
     "start_time": "2023-11-02T09:48:35.509257Z"
    }
   }
  },
  {
   "cell_type": "markdown",
   "source": [
    "### Relation between location and neighbourhood"
   ],
   "metadata": {
    "collapsed": false
   }
  },
  {
   "cell_type": "markdown",
   "source": [
    "I created a table of average location scores for each neighbourhood.\n",
    "The table is sorted by the average location score.\n",
    "\n",
    "It seems that the neighbourhoods with the highest average location can be classified into to groups:\n",
    "1. Those located in nature, far from the city center. For example, \"Fussa Shi\" and \"Ome Shi\" are located in the mountains.\n",
    "2. Those located in luxury areas. For example, \"Minato Ku\", \"Chiyoda Ku\", \"Chuo Ku\" are business districts, and \"Setagaya Ku\" is a residential area with many expensive houses.\n",
    "\n",
    "The neighbourhoods with the lowest average location score are mostly located in residential but not the best nature areas."
   ],
   "metadata": {
    "collapsed": false
   }
  },
  {
   "cell_type": "code",
   "execution_count": 13,
   "outputs": [
    {
     "name": "stdout",
     "output_type": "stream",
     "text": [
      "Top 10 neighbourhoods with the highest average location score:\n",
      "  neighbourhood_cleansed  review_scores_location\n",
      "0              Fussa Shi                4.966265\n",
      "1              Minato Ku                4.809081\n",
      "2                Ome Shi                4.795043\n",
      "3            Setagaya Ku                4.777035\n",
      "4             Chiyoda Ku                4.776826\n",
      "5              Chofu Shi                4.756662\n",
      "6            Koganei Shi                4.754881\n",
      "7             Shibuya Ku                4.749732\n",
      "8                Chuo Ku                4.744929\n",
      "9            Shinjuku Ku                4.744700\n",
      "\n",
      "Bottom 10 neighbourhoods with the lowest average location score:\n",
      "   neighbourhood_cleansed  review_scores_location\n",
      "46          Tachikawa Shi                4.146311\n",
      "45    Musashimurayama Shi                4.239318\n",
      "44               Hino Shi                4.286992\n",
      "43              Inagi Shi                4.330000\n",
      "42             Hamura Shi                4.380460\n",
      "41            Akiruno Shi                4.450936\n",
      "40              Adachi Ku                4.451930\n",
      "39             Mitaka Shi                4.455250\n",
      "38          Okutama Machi                4.507123\n",
      "37          Musashino Shi                4.541880\n"
     ]
    }
   ],
   "source": [
    "neighbourhood_scores = df_full_tokyo.groupby('neighbourhood_cleansed')['review_scores_location'].mean()\n",
    "\n",
    "neighbourhood_scores_sorted = neighbourhood_scores.reset_index().sort_values('review_scores_location', ascending=False)\n",
    "neighbourhood_scores_sorted.reset_index(drop=True, inplace=True)\n",
    "\n",
    "print(\"Top 10 neighbourhoods with the highest average location score:\")\n",
    "print(neighbourhood_scores_sorted.head(10))\n",
    "\n",
    "print(\"\\nBottom 10 neighbourhoods with the lowest average location score:\")\n",
    "print(neighbourhood_scores_sorted.tail(10).sort_values('review_scores_location', ascending=True))"
   ],
   "metadata": {
    "collapsed": false,
    "ExecuteTime": {
     "end_time": "2023-11-02T09:55:47.722572Z",
     "start_time": "2023-11-02T09:55:47.709831Z"
    }
   }
  },
  {
   "cell_type": "markdown",
   "source": [
    "To find relation between location review scores and neighbourhoods, I conducted Kruskal-Wallis test for each neighbourhood and property type.\n",
    "\n",
    "The reason I used Kruskal-Wallis test instead of ANOVA is that the location review scores are not normally distributed.\n",
    "The null hypothesis is that there is no difference in location review scores between neighbourhoods/property type.\n",
    "\n",
    "The extremely low p-values in both suggest that the differences in location scores between neighbourhoods are not due to random chance."
   ],
   "metadata": {
    "collapsed": false
   }
  },
  {
   "cell_type": "code",
   "execution_count": 24,
   "outputs": [
    {
     "name": "stdout",
     "output_type": "stream",
     "text": [
      "Kruskal-Wallis H statistic:  340.4728430923\n",
      "P-value: 0.0000000000\n"
     ]
    }
   ],
   "source": [
    "from scipy.stats import kruskal\n",
    "\n",
    "data_arrays = [df_full['review_scores_location'][df_full['neighbourhood_cleansed'] == neighbourhood].dropna().values for neighbourhood in df_full['neighbourhood_cleansed'].unique()]\n",
    "\n",
    "# Conduct the Kruskal-Wallis H test\n",
    "stat, p = kruskal(*data_arrays)\n",
    "\n",
    "print(f\"Kruskal-Wallis H statistic: {stat: .10f}\")\n",
    "print(f\"P-value: {p :.10f}\")\n"
   ],
   "metadata": {
    "collapsed": false,
    "ExecuteTime": {
     "end_time": "2023-11-02T10:03:37.703371Z",
     "start_time": "2023-11-02T10:03:37.679158Z"
    }
   }
  },
  {
   "cell_type": "code",
   "execution_count": null,
   "outputs": [],
   "source": [],
   "metadata": {
    "collapsed": false
   }
  }
 ],
 "metadata": {
  "kernelspec": {
   "display_name": "Python 3",
   "language": "python",
   "name": "python3"
  },
  "language_info": {
   "codemirror_mode": {
    "name": "ipython",
    "version": 2
   },
   "file_extension": ".py",
   "mimetype": "text/x-python",
   "name": "python",
   "nbconvert_exporter": "python",
   "pygments_lexer": "ipython2",
   "version": "2.7.6"
  }
 },
 "nbformat": 4,
 "nbformat_minor": 0
}
