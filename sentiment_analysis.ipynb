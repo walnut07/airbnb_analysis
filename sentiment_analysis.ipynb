{
 "cells": [
  {
   "cell_type": "markdown",
   "source": [
    "This notebook is to process sentiment analysis on the reviews of airbnb location reviews."
   ],
   "metadata": {
    "collapsed": false
   }
  },
  {
   "cell_type": "code",
   "execution_count": null,
   "outputs": [],
   "source": [
    "import pandas as pd\n",
    "import matplotlib.pyplot as plt\n",
    "import seaborn as sns"
   ],
   "metadata": {
    "collapsed": false
   }
  },
  {
   "cell_type": "code",
   "execution_count": null,
   "metadata": {
    "collapsed": true
   },
   "outputs": [],
   "source": [
    "city_names = [\"tokyo\", \"sydney\", \"melbourne\", \"singapore\", \"hongkong\", \"taipei\", \"bangkok\"]"
   ]
  },
  {
   "cell_type": "code",
   "execution_count": null,
   "outputs": [],
   "source": [
    "cities_df = dict()\n",
    "for city in city_names:\n",
    "    cities_df[city] = pd.read_csv(\"./data/listings_{c}.csv\".format(c=city))"
   ],
   "metadata": {
    "collapsed": false
   }
  },
  {
   "cell_type": "code",
   "execution_count": null,
   "outputs": [],
   "source": [
    "cities_review_df = dict()\n",
    "for city in city_names:\n",
    "    cities_review_df[city] = pd.read_csv(\"./data/reviews_{c}.csv\".format(c=city))"
   ],
   "metadata": {
    "collapsed": false
   }
  },
  {
   "cell_type": "code",
   "execution_count": null,
   "outputs": [],
   "source": [
    "import pandas as pd\n",
    "from transformers import pipeline, DistilBertTokenizer\n",
    "\n",
    "def get_sentiment(text, classifier):\n",
    "    try:\n",
    "        tokens = tokenizer.tokenize(text)\n",
    "\n",
    "        if len(tokens) > 510:  # 512 - 2 (for [CLS] and [SEP])\n",
    "            tokens = tokens[:510]\n",
    "\n",
    "        truncated_text = tokenizer.convert_tokens_to_string(tokens)\n",
    "\n",
    "        results = classifier(truncated_text)\n",
    "        sentiment = dict()\n",
    "        for result in results[0]:\n",
    "            sentiment[result[\"label\"]] = result[\"score\"]\n",
    "\n",
    "        return sentiment\n",
    "\n",
    "    except Exception as e:\n",
    "        print(f\"Error: {e}\")\n",
    "        return {\n",
    "            \"positive\": float(\"NaN\"),\n",
    "            \"negative\": float(\"NaN\"),\n",
    "            \"neutral\": float(\"NaN\")\n",
    "        }\n",
    "\n",
    "classifier = pipeline(\"text-classification\", model=\"lxyuan/distilbert-base-multilingual-cased-sentiments-student\", return_all_scores=True)\n",
    "tokenizer = DistilBertTokenizer.from_pretrained(\"lxyuan/distilbert-base-multilingual-cased-sentiments-student\")\n",
    "\n",
    "sentiment_result = [] # List of dictionaries containing the sentiment result\n",
    "for i, comment in enumerate(cities_review_df['tokyo']['comments']):\n",
    "    if i % 10000 == 0:\n",
    "        print(f\"Processing comment {i+1} out of {len(cities_review_df['tokyo']['comments'])}\")\n",
    "    sentiment = get_sentiment(comment, classifier)\n",
    "    sentiment_result.append(sentiment)\n",
    "\n",
    "# Update the dataframe with the sentiment result\n",
    "for i, result in enumerate(sentiment_result):\n",
    "    cities_review_df[\"tokyo\"].loc[i, \"positive\"] = result[\"positive\"]\n",
    "    cities_review_df[\"tokyo\"].loc[i, \"negative\"] = result[\"negative\"]\n",
    "    cities_review_df[\"tokyo\"].loc[i, \"neutral\"] = result[\"neutral\"]\n",
    "\n",
    "# Create a csv\n",
    "cities_review_df[\"tokyo\"].to_csv(\"./data/reviews_tokyo_sentiment.csv\", index=False)\n"
   ],
   "metadata": {
    "collapsed": false
   }
  },
  {
   "cell_type": "code",
   "execution_count": null,
   "outputs": [],
   "source": [
    "print(cities_review_df[\"tokyo\"].head())\n"
   ],
   "metadata": {
    "collapsed": false
   }
  },
  {
   "cell_type": "code",
   "execution_count": null,
   "outputs": [],
   "source": [],
   "metadata": {
    "collapsed": false
   }
  }
 ],
 "metadata": {
  "kernelspec": {
   "display_name": "Python 3",
   "language": "python",
   "name": "python3"
  },
  "language_info": {
   "codemirror_mode": {
    "name": "ipython",
    "version": 2
   },
   "file_extension": ".py",
   "mimetype": "text/x-python",
   "name": "python",
   "nbconvert_exporter": "python",
   "pygments_lexer": "ipython2",
   "version": "2.7.6"
  }
 },
 "nbformat": 4,
 "nbformat_minor": 0
}
